{
 "cells": [
  {
   "cell_type": "code",
   "execution_count": 1,
   "id": "2c9f3005",
   "metadata": {},
   "outputs": [],
   "source": [
    "import matplotlib.pyplot as plt \n",
    "import pandas as pd\n",
    "import numpy as np\n",
    "from sklearn.model_selection import train_test_split\n",
    "from sklearn.linear_model import LogisticRegression\n",
    "from sklearn.metrics import f1_score, recall_score, precision_score\n",
    "from sklearn.preprocessing import StandardScaler\n",
    "from sklearn.svm import SVC\n",
    "from sklearn.tree import DecisionTreeClassifier"
   ]
  },
  {
   "cell_type": "code",
   "execution_count": 2,
   "id": "6d8607cf",
   "metadata": {},
   "outputs": [],
   "source": [
    "Dataset = pd.read_csv(\"Titanic-Dataset.csv\")"
   ]
  },
  {
   "cell_type": "code",
   "execution_count": 3,
   "id": "b9977cc8",
   "metadata": {},
   "outputs": [],
   "source": [
    "Dataset = Dataset.drop(columns=['PassengerId','Name','Ticket','Cabin'])"
   ]
  },
  {
   "cell_type": "code",
   "execution_count": 4,
   "id": "a20f7ff2",
   "metadata": {},
   "outputs": [],
   "source": [
    "med = Dataset['Age'].median()\n",
    "Dataset['Age'] = Dataset['Age'].fillna(med)\n",
    "maxi = Dataset['Embarked'].value_counts().idxmax()\n",
    "Dataset['Embarked'] = Dataset['Embarked'].fillna(maxi)"
   ]
  },
  {
   "cell_type": "code",
   "execution_count": 5,
   "id": "7d361149",
   "metadata": {},
   "outputs": [],
   "source": [
    "Dataset = pd.get_dummies(Dataset, columns=['Embarked','Sex'])\n"
   ]
  },
  {
   "cell_type": "code",
   "execution_count": 6,
   "id": "39778769",
   "metadata": {},
   "outputs": [],
   "source": [
    "y = pd.DataFrame(Dataset['Survived'], columns=['Survived'])\n",
    "x = Dataset.drop(columns=['Survived'])\n"
   ]
  },
  {
   "cell_type": "code",
   "execution_count": 7,
   "id": "eb3946ed",
   "metadata": {},
   "outputs": [],
   "source": [
    "x_train, x_test, y_train, y_test = train_test_split(x, y, test_size=0.2, random_state=69)"
   ]
  },
  {
   "cell_type": "code",
   "execution_count": 8,
   "id": "80564410",
   "metadata": {},
   "outputs": [],
   "source": [
    "scaler = StandardScaler()\n",
    "x_train_scaler = scaler.fit_transform(x_train)\n",
    "x_test_scaler = scaler.transform(x_test)"
   ]
  },
  {
   "cell_type": "code",
   "execution_count": 9,
   "id": "c96ccc41",
   "metadata": {},
   "outputs": [
    {
     "name": "stdout",
     "output_type": "stream",
     "text": [
      "Logistic Regression Results:\n",
      "F1 Score: 0.7424242424242424\n",
      "Recall Score: 0.7313432835820896\n",
      "Precision Score: 0.7538461538461538\n"
     ]
    },
    {
     "name": "stderr",
     "output_type": "stream",
     "text": [
      "C:\\Users\\bhagy\\anaconda3\\lib\\site-packages\\sklearn\\utils\\validation.py:993: DataConversionWarning: A column-vector y was passed when a 1d array was expected. Please change the shape of y to (n_samples, ), for example using ravel().\n",
      "  y = column_or_1d(y, warn=True)\n",
      "C:\\Users\\bhagy\\anaconda3\\lib\\site-packages\\sklearn\\linear_model\\_logistic.py:814: ConvergenceWarning: lbfgs failed to converge (status=1):\n",
      "STOP: TOTAL NO. of ITERATIONS REACHED LIMIT.\n",
      "\n",
      "Increase the number of iterations (max_iter) or scale the data as shown in:\n",
      "    https://scikit-learn.org/stable/modules/preprocessing.html\n",
      "Please also refer to the documentation for alternative solver options:\n",
      "    https://scikit-learn.org/stable/modules/linear_model.html#logistic-regression\n",
      "  n_iter_i = _check_optimize_result(\n"
     ]
    }
   ],
   "source": [
    "model = LogisticRegression()\n",
    "model.fit(x_train, y_train)\n",
    "pred = model.predict(x_test)\n",
    "print(\"Logistic Regression Results:\")\n",
    "print(\"F1 Score:\", f1_score(y_test, pred))\n",
    "print(\"Recall Score:\", recall_score(y_test, pred))\n",
    "print(\"Precision Score:\", precision_score(y_test, pred))"
   ]
  },
  {
   "cell_type": "code",
   "execution_count": 10,
   "id": "608b40a0",
   "metadata": {},
   "outputs": [
    {
     "name": "stdout",
     "output_type": "stream",
     "text": [
      "\n",
      "SVM Results:\n",
      "F1 Score: 0.761904761904762\n",
      "Recall Score: 0.7164179104477612\n",
      "Precision Score: 0.8135593220338984\n"
     ]
    },
    {
     "name": "stderr",
     "output_type": "stream",
     "text": [
      "C:\\Users\\bhagy\\anaconda3\\lib\\site-packages\\sklearn\\utils\\validation.py:993: DataConversionWarning: A column-vector y was passed when a 1d array was expected. Please change the shape of y to (n_samples, ), for example using ravel().\n",
      "  y = column_or_1d(y, warn=True)\n"
     ]
    }
   ],
   "source": [
    "svm_model = SVC(kernel='linear', random_state=69)\n",
    "svm_model.fit(x_train_scaler, y_train)\n",
    "svm_pred = svm_model.predict(x_test_scaler)\n",
    "print(\"\\nSVM Results:\")\n",
    "print(\"F1 Score:\", f1_score(y_test, svm_pred))\n",
    "print(\"Recall Score:\", recall_score(y_test, svm_pred))\n",
    "print(\"Precision Score:\", precision_score(y_test, svm_pred))"
   ]
  },
  {
   "cell_type": "code",
   "execution_count": 11,
   "id": "75d82913",
   "metadata": {},
   "outputs": [
    {
     "name": "stdout",
     "output_type": "stream",
     "text": [
      "\n",
      "Decision Tree Results:\n",
      "F1 Score: 0.7014925373134329\n",
      "Recall Score: 0.7014925373134329\n",
      "Precision Score: 0.7014925373134329\n"
     ]
    }
   ],
   "source": [
    "dt_model = DecisionTreeClassifier(random_state=69)\n",
    "dt_model.fit(x_train_scaler, y_train)\n",
    "dt_pred = dt_model.predict(x_test_scaler)\n",
    "print(\"\\nDecision Tree Results:\")\n",
    "print(\"F1 Score:\", f1_score(y_test, dt_pred))\n",
    "print(\"Recall Score:\", recall_score(y_test, dt_pred))\n",
    "print(\"Precision Score:\", precision_score(y_test, dt_pred))"
   ]
  }
 ],
 "metadata": {
  "kernelspec": {
   "display_name": "Python 3 (ipykernel)",
   "language": "python",
   "name": "python3"
  },
  "language_info": {
   "codemirror_mode": {
    "name": "ipython",
    "version": 3
   },
   "file_extension": ".py",
   "mimetype": "text/x-python",
   "name": "python",
   "nbconvert_exporter": "python",
   "pygments_lexer": "ipython3",
   "version": "3.9.12"
  }
 },
 "nbformat": 4,
 "nbformat_minor": 5
}
